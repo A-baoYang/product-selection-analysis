{
 "cells": [
  {
   "cell_type": "code",
   "execution_count": 1,
   "metadata": {},
   "outputs": [],
   "source": [
    "from IPython.core.interactiveshell import InteractiveShell\n",
    "InteractiveShell.ast_node_interactivity = 'all'\n",
    "import numpy as np\n",
    "import matplotlib.pyplot as plt\n",
    "import pandas as pd\n",
    "pd.set_option('display.max_columns', None)\n",
    "from pytrends.request import TrendReq\n",
    "import requests\n",
    "import time\n",
    "from tqdm import tqdm\n"
   ]
  },
  {
   "cell_type": "code",
   "execution_count": null,
   "metadata": {},
   "outputs": [],
   "source": [
    "trends = TrendReq(hl='zh-TW', tz=-480)\n",
    "product_searches = dict()\n",
    "\n",
    "for names in tqdm(products):\n",
    "    kw_list = [names]\n",
    "    trends.build_payload(kw_list, cat=0, timeframe='today 5-y', geo='TW', gprop='')\n",
    "    search_data = trends.interest_over_time()\n",
    "    if len(search_data) > 0:\n",
    "        product_searches.update(search_data.to_dict())\n",
    "    else:\n",
    "        print(names)\n",
    "    \n",
    "    sleep_sec = np.random.randint(3, 5)\n",
    "    time.sleep(sleep_sec)\n",
    "\n",
    "product_searches_df = pd.DataFrame(product_searches)\n",
    "product_searches_df.to_csv('momo_productTypes_gSearch_amount.csv')\n"
   ]
  },
  {
   "cell_type": "code",
   "execution_count": null,
   "metadata": {},
   "outputs": [],
   "source": [
    "product_searches_df = pd.read_csv('momo_productTypes_gSearch_amount.csv')\n",
    "product_searches_df = product_searches_df.drop(['isPartial'], axis=1)\n",
    "product_searches_df.iloc[-11:-1, :]\n",
    "product_searches_df.diff().tail(10).T.sort_values('2021-06-06', ascending=False).head(30)\n"
   ]
  },
  {
   "cell_type": "code",
   "execution_count": null,
   "metadata": {},
   "outputs": [],
   "source": [
    "plt.figure(figsize=(30, 15))\n",
    "plt.plot(product_searches_df.index.values, product_searches_df['Gore-Tex'].values)\n",
    "plt.show()\n",
    "\n"
   ]
  },
  {
   "cell_type": "code",
   "execution_count": null,
   "metadata": {},
   "outputs": [],
   "source": [
    "pytrends.build_payload(['OPPO', 'SAMSUNG','SONY'], cat=0, timeframe='today 5-y', geo='TW')\n",
    "data = pytrends.interest_over_time()\n",
    "data\n",
    "\n",
    "plt.figure(figsize=(30, 15))\n",
    "plt.plot(data.index.values, data['OPPO'].values)\n",
    "plt.plot(data.index.values, data['SAMSUNG'].values)\n",
    "plt.plot(data.index.values, data['SONY'].values)\n",
    "plt.legend(['OPPO','SAMSUNG','SONY'])\n",
    "plt.show()\n",
    "\n"
   ]
  }
 ],
 "metadata": {
  "kernelspec": {
   "display_name": "Python 3",
   "language": "python",
   "name": "python3"
  },
  "language_info": {
   "codemirror_mode": {
    "name": "ipython",
    "version": 3
   },
   "file_extension": ".py",
   "mimetype": "text/x-python",
   "name": "python",
   "nbconvert_exporter": "python",
   "pygments_lexer": "ipython3",
   "version": "3.7.9"
  }
 },
 "nbformat": 4,
 "nbformat_minor": 2
}
